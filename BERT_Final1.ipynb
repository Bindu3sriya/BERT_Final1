{
 "cells": [
  {
   "cell_type": "code",
   "execution_count": 1,
   "id": "ccc04dcd-00da-43fd-a04c-5c5325c49b16",
   "metadata": {},
   "outputs": [
    {
     "name": "stdout",
     "output_type": "stream",
     "text": [
      "WARNING:tensorflow:From C:\\Users\\admin\\AppData\\Local\\Programs\\Python\\Python310\\lib\\site-packages\\keras\\src\\losses.py:2976: The name tf.losses.sparse_softmax_cross_entropy is deprecated. Please use tf.compat.v1.losses.sparse_softmax_cross_entropy instead.\n",
      "\n"
     ]
    }
   ],
   "source": [
    "import pandas as pd\n",
    "import numpy as np\n",
    "import tensorflow as tf\n",
    "from transformers import BertTokenizer, TFBertForSequenceClassification,create_optimizer\n",
    "from transformers import glue_convert_examples_to_features\n",
    "from sklearn.model_selection import train_test_split\n",
    "from sklearn.preprocessing import LabelEncoder\n",
    "from sklearn.metrics import accuracy_score, classification_report\n",
    "import re\n",
    "from tensorflow.keras.utils import to_categorical\n",
    "import string"
   ]
  },
  {
   "cell_type": "code",
   "execution_count": 2,
   "id": "2a09c8d2-1c37-42e2-9694-849fd776db3f",
   "metadata": {},
   "outputs": [],
   "source": [
    "# Load dataset\n",
    "df = pd.read_csv(\"Eclipse_Platform.csv\")"
   ]
  },
  {
   "cell_type": "code",
   "execution_count": 3,
   "id": "70c384a1-75e2-4061-bf8f-30703bc2c565",
   "metadata": {},
   "outputs": [],
   "source": [
    "# preprocess_text function\n",
    "def preprocess_text(text):\n",
    "    text = text.lower()  # Convert text to lowercase\n",
    "    text = re.sub(r'http\\S+', '', text)  # Remove URLs\n",
    "    text = re.sub(r'stack trace\\S+', '', text)  # Remove stack traces\n",
    "    text = re.sub(r'\\b[0-9a-fA-F]+\\b', '', text)  # Remove hex codes\n",
    "    text = re.sub(r'\\[.*?\\]', '', text)  # Remove content in square brackets\n",
    "    text = re.sub(r'<.*?>', '', text)  # Remove content in angle brackets\n",
    "    text = text.replace('@', '')  # Remove @\n",
    "    text = text.replace('-', '')  # Remove -\n",
    "    text = text.replace('\"', '')  # Remove \"\n",
    "    text = text.replace('`', '')  # Remove `\n",
    "    text = text.replace('[', '')  # Remove [\n",
    "    text = text.replace(']', '')  # Remove ]\n",
    "    text = text.replace('<', '')  # Remove <\n",
    "    text = text.replace('>', '')  # Remove >\n",
    "    text = text.replace('%', '')  # Remove %\n",
    "    text = text.translate(str.maketrans('', '', string.punctuation))  # Remove punctuation\n",
    "    text = re.sub(r'\\d+', '', text)  # Remove numbers\n",
    "    text = re.sub(r'\\r\\n', ' ', text)  # Replace Windows-style newlines with space\n",
    "    text = re.sub(r'\\n|\\r', ' ', text)  # Replace Unix/Mac-style newlines with space\n",
    "    # tokens = word_tokenize(text)  # Tokenization\n",
    "    # lemmatizer = WordNetLemmatizer()\n",
    "    # tokens = [lemmatizer.lemmatize(word) for word in tokens]\n",
    "    # text = ' '.join(tokens)  # Join tokens back to string\n",
    "    return text\n",
    "\n",
    "df[\"text\"] = df[\"title\"] + \" \" + df[\"description\"]\n",
    "df[\"text\"] = df[\"text\"].apply(preprocess_text)\n",
    "df[\"component\"] = df[\"component\"].apply(preprocess_text)\n"
   ]
  },
  {
   "cell_type": "code",
   "execution_count": 4,
   "id": "eeac79f3-6775-47be-a668-0f13e1d2fb54",
   "metadata": {},
   "outputs": [
    {
     "data": {
      "text/html": [
       "<div>\n",
       "<style scoped>\n",
       "    .dataframe tbody tr th:only-of-type {\n",
       "        vertical-align: middle;\n",
       "    }\n",
       "\n",
       "    .dataframe tbody tr th {\n",
       "        vertical-align: top;\n",
       "    }\n",
       "\n",
       "    .dataframe thead th {\n",
       "        text-align: right;\n",
       "    }\n",
       "</style>\n",
       "<table border=\"1\" class=\"dataframe\">\n",
       "  <thead>\n",
       "    <tr style=\"text-align: right;\">\n",
       "      <th></th>\n",
       "      <th>component</th>\n",
       "      <th>title</th>\n",
       "      <th>description</th>\n",
       "      <th>text</th>\n",
       "    </tr>\n",
       "  </thead>\n",
       "  <tbody>\n",
       "    <tr>\n",
       "      <th>8432</th>\n",
       "      <td>team</td>\n",
       "      <td>FTP: Connection wizard has no title</td>\n",
       "      <td>Build F2\\n\\nWhen you are specifying your FTP c...</td>\n",
       "      <td>ftp connection wizard has no title build   whe...</td>\n",
       "    </tr>\n",
       "    <tr>\n",
       "      <th>8433</th>\n",
       "      <td>ant</td>\n",
       "      <td>Ant Editor image does not update when problem ...</td>\n",
       "      <td>If you have a problem that you set to ignore, ...</td>\n",
       "      <td>ant editor image does not update when problem ...</td>\n",
       "    </tr>\n",
       "    <tr>\n",
       "      <th>8434</th>\n",
       "      <td>user assistance</td>\n",
       "      <td>2 additional points for the \"Accessibility fea...</td>\n",
       "      <td>As a follow-on to bug 400997 comment 9, there ...</td>\n",
       "      <td>additional points for the accessibility featu...</td>\n",
       "    </tr>\n",
       "    <tr>\n",
       "      <th>8435</th>\n",
       "      <td>ui</td>\n",
       "      <td>[Jobs] Property IProgressConstants2.SHOW_IN_TA...</td>\n",
       "      <td>Created attachment 254799 [details]\\nA test pr...</td>\n",
       "      <td>property iprogressconstantsshowintaskbariconp...</td>\n",
       "    </tr>\n",
       "    <tr>\n",
       "      <th>8436</th>\n",
       "      <td>ant</td>\n",
       "      <td>Hidden functionality of the copy button for bu...</td>\n",
       "      <td>From the newsgroup:\\n&gt; I expected that button ...</td>\n",
       "      <td>hidden functionality of the copy button for bu...</td>\n",
       "    </tr>\n",
       "    <tr>\n",
       "      <th>8437</th>\n",
       "      <td>compare</td>\n",
       "      <td>Exceptions after one of the compare viewer inp...</td>\n",
       "      <td>Build I20030513\\n\\n1. Select two folders\\n2. C...</td>\n",
       "      <td>exceptions after one of the compare viewer inp...</td>\n",
       "    </tr>\n",
       "    <tr>\n",
       "      <th>8438</th>\n",
       "      <td>swt</td>\n",
       "      <td>NullPointerException when invoking ContentAssist</td>\n",
       "      <td>eclipse.buildId=I20090313-0100\\njava.version=1...</td>\n",
       "      <td>nullpointerexception when invoking contentassi...</td>\n",
       "    </tr>\n",
       "    <tr>\n",
       "      <th>8439</th>\n",
       "      <td>ant</td>\n",
       "      <td>NullPointerException opening Ant file with URL...</td>\n",
       "      <td>Since upgrading to Mars, the following build f...</td>\n",
       "      <td>nullpointerexception opening ant file with url...</td>\n",
       "    </tr>\n",
       "    <tr>\n",
       "      <th>8440</th>\n",
       "      <td>ant</td>\n",
       "      <td>Code folding in the Ant Editor</td>\n",
       "      <td>Utilize the text framework support for code fo...</td>\n",
       "      <td>code folding in the ant editor utilize the tex...</td>\n",
       "    </tr>\n",
       "    <tr>\n",
       "      <th>8441</th>\n",
       "      <td>ant</td>\n",
       "      <td>Code completion does not present nested target...</td>\n",
       "      <td>antcall has supported a nested target element ...</td>\n",
       "      <td>code completion does not present nested target...</td>\n",
       "    </tr>\n",
       "    <tr>\n",
       "      <th>8442</th>\n",
       "      <td>team</td>\n",
       "      <td>[Model Sync] Elements of working set not selec...</td>\n",
       "      <td>When the sync dialog opens for a model sync an...</td>\n",
       "      <td>elements of working set not selected when dia...</td>\n",
       "    </tr>\n",
       "    <tr>\n",
       "      <th>8443</th>\n",
       "      <td>releng</td>\n",
       "      <td>Download page for Mac builds should mention th...</td>\n",
       "      <td>Eclipse 4.7 build for Mac ships with a new lau...</td>\n",
       "      <td>download page for mac builds should mention th...</td>\n",
       "    </tr>\n",
       "    <tr>\n",
       "      <th>8444</th>\n",
       "      <td>cvs</td>\n",
       "      <td>[Operations] Replace with... doesn't replace a...</td>\n",
       "      <td>I20060124\\n\\n1. In workspace w1, check out v1 ...</td>\n",
       "      <td>replace with doesnt replace all selected proj...</td>\n",
       "    </tr>\n",
       "    <tr>\n",
       "      <th>8445</th>\n",
       "      <td>releng</td>\n",
       "      <td>Enable photon I-builds on the download page</td>\n",
       "      <td>These were disabled for the quiet period. sinc...</td>\n",
       "      <td>enable photon ibuilds on the download page the...</td>\n",
       "    </tr>\n",
       "    <tr>\n",
       "      <th>8446</th>\n",
       "      <td>runtime</td>\n",
       "      <td>Job#isBlocking doesn't work for all cases</td>\n",
       "      <td>Job#isBlocking() only works when the job's sch...</td>\n",
       "      <td>jobisblocking doesnt work for all cases jobisb...</td>\n",
       "    </tr>\n",
       "    <tr>\n",
       "      <th>8447</th>\n",
       "      <td>team</td>\n",
       "      <td>Sync view: modified outgoing deletion not bein...</td>\n",
       "      <td>1. Delete a managed file from a project\\n2. Sy...</td>\n",
       "      <td>sync view modified outgoing deletion not being...</td>\n",
       "    </tr>\n",
       "    <tr>\n",
       "      <th>8448</th>\n",
       "      <td>ui</td>\n",
       "      <td>Cleanup JFace code in preparation for GSoc</td>\n",
       "      <td>This issue is an extension of bug #430873. The...</td>\n",
       "      <td>cleanup jface code in preparation for gsoc thi...</td>\n",
       "    </tr>\n",
       "    <tr>\n",
       "      <th>8449</th>\n",
       "      <td>resources</td>\n",
       "      <td>Remove unused ProjectPreferences.isAlreadyLoad...</td>\n",
       "      <td>The ProjectPreferences.isAlreadyLoaded(String)...</td>\n",
       "      <td>remove unused projectpreferencesisalreadyloade...</td>\n",
       "    </tr>\n",
       "    <tr>\n",
       "      <th>8450</th>\n",
       "      <td>team</td>\n",
       "      <td>Cannot share project in a sub directory of a m...</td>\n",
       "      <td>I20031113\\nSteps to reproduce:\\n- Create a pro...</td>\n",
       "      <td>cannot share project in  sub directory of  mod...</td>\n",
       "    </tr>\n",
       "    <tr>\n",
       "      <th>8451</th>\n",
       "      <td>ui</td>\n",
       "      <td>Memory leak in WorkbenchSiteProgressService</td>\n",
       "      <td>The dispose method of WorkbenchSiteProgressSer...</td>\n",
       "      <td>memory leak in workbenchsiteprogressservice th...</td>\n",
       "    </tr>\n",
       "    <tr>\n",
       "      <th>8452</th>\n",
       "      <td>swt</td>\n",
       "      <td>JVM (Eclipse) crash with SIGSEGV in ld-linux-x...</td>\n",
       "      <td>Build Identifier: I20120531-0600 (3.8 RC3)\\n\\n...</td>\n",
       "      <td>jvm eclipse crash with sigsegv in ldlinuxxso b...</td>\n",
       "    </tr>\n",
       "    <tr>\n",
       "      <th>8453</th>\n",
       "      <td>ui</td>\n",
       "      <td>[Contributions] dynamic: Action definition sty...</td>\n",
       "      <td>I20030812\\n\\nIn XML I defined an action with s...</td>\n",
       "      <td>dynamic action definition stylepulldown and r...</td>\n",
       "    </tr>\n",
       "    <tr>\n",
       "      <th>8454</th>\n",
       "      <td>releng</td>\n",
       "      <td>POM version problem quick fix mangles the pom....</td>\n",
       "      <td>4.3.\\n\\nThe POM version problem quick fix mang...</td>\n",
       "      <td>pom version problem quick fix mangles the pomx...</td>\n",
       "    </tr>\n",
       "    <tr>\n",
       "      <th>8455</th>\n",
       "      <td>text</td>\n",
       "      <td>[navigation] Add Go To Next/Previous Annotatio...</td>\n",
       "      <td>The java editor supports the generic Next / Pr...</td>\n",
       "      <td>go to nextprevious annotation commands to te...</td>\n",
       "    </tr>\n",
       "    <tr>\n",
       "      <th>8456</th>\n",
       "      <td>ui</td>\n",
       "      <td>[Dialogs] ResourceInfoPage should set backgrou...</td>\n",
       "      <td>ResourceInfoPage uses read-only text widgets t...</td>\n",
       "      <td>resourceinfopage should set background on rea...</td>\n",
       "    </tr>\n",
       "  </tbody>\n",
       "</table>\n",
       "</div>"
      ],
      "text/plain": [
       "                 component                                              title  \\\n",
       "8432             team                     FTP: Connection wizard has no title   \n",
       "8433              ant       Ant Editor image does not update when problem ...   \n",
       "8434  user assistance       2 additional points for the \"Accessibility fea...   \n",
       "8435               ui       [Jobs] Property IProgressConstants2.SHOW_IN_TA...   \n",
       "8436              ant       Hidden functionality of the copy button for bu...   \n",
       "8437          compare       Exceptions after one of the compare viewer inp...   \n",
       "8438              swt        NullPointerException when invoking ContentAssist   \n",
       "8439              ant       NullPointerException opening Ant file with URL...   \n",
       "8440              ant                          Code folding in the Ant Editor   \n",
       "8441              ant       Code completion does not present nested target...   \n",
       "8442             team       [Model Sync] Elements of working set not selec...   \n",
       "8443           releng       Download page for Mac builds should mention th...   \n",
       "8444              cvs       [Operations] Replace with... doesn't replace a...   \n",
       "8445           releng             Enable photon I-builds on the download page   \n",
       "8446          runtime               Job#isBlocking doesn't work for all cases   \n",
       "8447             team       Sync view: modified outgoing deletion not bein...   \n",
       "8448               ui              Cleanup JFace code in preparation for GSoc   \n",
       "8449        resources       Remove unused ProjectPreferences.isAlreadyLoad...   \n",
       "8450             team       Cannot share project in a sub directory of a m...   \n",
       "8451               ui             Memory leak in WorkbenchSiteProgressService   \n",
       "8452              swt       JVM (Eclipse) crash with SIGSEGV in ld-linux-x...   \n",
       "8453               ui       [Contributions] dynamic: Action definition sty...   \n",
       "8454           releng       POM version problem quick fix mangles the pom....   \n",
       "8455             text       [navigation] Add Go To Next/Previous Annotatio...   \n",
       "8456               ui       [Dialogs] ResourceInfoPage should set backgrou...   \n",
       "\n",
       "                                            description  \\\n",
       "8432  Build F2\\n\\nWhen you are specifying your FTP c...   \n",
       "8433  If you have a problem that you set to ignore, ...   \n",
       "8434  As a follow-on to bug 400997 comment 9, there ...   \n",
       "8435  Created attachment 254799 [details]\\nA test pr...   \n",
       "8436  From the newsgroup:\\n> I expected that button ...   \n",
       "8437  Build I20030513\\n\\n1. Select two folders\\n2. C...   \n",
       "8438  eclipse.buildId=I20090313-0100\\njava.version=1...   \n",
       "8439  Since upgrading to Mars, the following build f...   \n",
       "8440  Utilize the text framework support for code fo...   \n",
       "8441  antcall has supported a nested target element ...   \n",
       "8442  When the sync dialog opens for a model sync an...   \n",
       "8443  Eclipse 4.7 build for Mac ships with a new lau...   \n",
       "8444  I20060124\\n\\n1. In workspace w1, check out v1 ...   \n",
       "8445  These were disabled for the quiet period. sinc...   \n",
       "8446  Job#isBlocking() only works when the job's sch...   \n",
       "8447  1. Delete a managed file from a project\\n2. Sy...   \n",
       "8448  This issue is an extension of bug #430873. The...   \n",
       "8449  The ProjectPreferences.isAlreadyLoaded(String)...   \n",
       "8450  I20031113\\nSteps to reproduce:\\n- Create a pro...   \n",
       "8451  The dispose method of WorkbenchSiteProgressSer...   \n",
       "8452  Build Identifier: I20120531-0600 (3.8 RC3)\\n\\n...   \n",
       "8453  I20030812\\n\\nIn XML I defined an action with s...   \n",
       "8454  4.3.\\n\\nThe POM version problem quick fix mang...   \n",
       "8455  The java editor supports the generic Next / Pr...   \n",
       "8456  ResourceInfoPage uses read-only text widgets t...   \n",
       "\n",
       "                                                   text  \n",
       "8432  ftp connection wizard has no title build   whe...  \n",
       "8433  ant editor image does not update when problem ...  \n",
       "8434   additional points for the accessibility featu...  \n",
       "8435   property iprogressconstantsshowintaskbariconp...  \n",
       "8436  hidden functionality of the copy button for bu...  \n",
       "8437  exceptions after one of the compare viewer inp...  \n",
       "8438  nullpointerexception when invoking contentassi...  \n",
       "8439  nullpointerexception opening ant file with url...  \n",
       "8440  code folding in the ant editor utilize the tex...  \n",
       "8441  code completion does not present nested target...  \n",
       "8442   elements of working set not selected when dia...  \n",
       "8443  download page for mac builds should mention th...  \n",
       "8444   replace with doesnt replace all selected proj...  \n",
       "8445  enable photon ibuilds on the download page the...  \n",
       "8446  jobisblocking doesnt work for all cases jobisb...  \n",
       "8447  sync view modified outgoing deletion not being...  \n",
       "8448  cleanup jface code in preparation for gsoc thi...  \n",
       "8449  remove unused projectpreferencesisalreadyloade...  \n",
       "8450  cannot share project in  sub directory of  mod...  \n",
       "8451  memory leak in workbenchsiteprogressservice th...  \n",
       "8452  jvm eclipse crash with sigsegv in ldlinuxxso b...  \n",
       "8453   dynamic action definition stylepulldown and r...  \n",
       "8454  pom version problem quick fix mangles the pomx...  \n",
       "8455    go to nextprevious annotation commands to te...  \n",
       "8456   resourceinfopage should set background on rea...  "
      ]
     },
     "execution_count": 4,
     "metadata": {},
     "output_type": "execute_result"
    }
   ],
   "source": [
    "df.tail(25)"
   ]
  },
  {
   "cell_type": "code",
   "execution_count": 5,
   "id": "f1169331-f898-48bb-a320-e09fe8adf1ba",
   "metadata": {},
   "outputs": [
    {
     "name": "stdout",
     "output_type": "stream",
     "text": [
      "component\n",
      "swt                                             994\n",
      "debug                                           994\n",
      "ant                                             994\n",
      "ui                                              994\n",
      "team                                            929\n",
      "releng                                          733\n",
      "text                                            630\n",
      "cvs                                             523\n",
      "compare                                         356\n",
      "ide                                             315\n",
      "resources                                       273\n",
      "user assistance                                 248\n",
      "doc                                             180\n",
      "search                                          144\n",
      "runtime                                          93\n",
      "update  deprecated  use eclipseequinoxp          57\n",
      "Name: count, dtype: int64\n"
     ]
    }
   ],
   "source": [
    "\n",
    "component_counts = df['component'].value_counts()\n",
    "print(component_counts)\n"
   ]
  },
  {
   "cell_type": "code",
   "execution_count": 6,
   "id": "f9daecbb-34cc-42c7-9f99-f4d60334a19f",
   "metadata": {},
   "outputs": [
    {
     "data": {
      "text/plain": [
       "8457"
      ]
     },
     "execution_count": 6,
     "metadata": {},
     "output_type": "execute_result"
    }
   ],
   "source": [
    "df.shape[0]"
   ]
  },
  {
   "cell_type": "code",
   "execution_count": 7,
   "id": "3f52de40-8769-4c7b-a09d-c89bc71479f3",
   "metadata": {},
   "outputs": [],
   "source": [
    "# Splitting the data\n",
    "train_data, test_data = train_test_split(df, test_size=0.2, random_state=42)"
   ]
  },
  {
   "cell_type": "code",
   "execution_count": 8,
   "id": "307d0dd2-1a51-4598-ae30-d7bdecc8efb7",
   "metadata": {},
   "outputs": [],
   "source": [
    "# # Convert labels to one-hot encoding\n",
    "# y_train = to_categorical(y_train, num_classes=num_classes)\n",
    "# y_test = to_categorical(y_test, num_classes=num_classes)"
   ]
  },
  {
   "cell_type": "code",
   "execution_count": 9,
   "id": "58ea7065-d4f7-460c-bbd1-afb524986955",
   "metadata": {},
   "outputs": [],
   "source": [
    "# Load the BERT tokenizer\n",
    "tokenizer = BertTokenizer.from_pretrained('bert-base-uncased')"
   ]
  },
  {
   "cell_type": "code",
   "execution_count": 10,
   "id": "4687dde7-38c9-4860-bd59-0087ee9c893d",
   "metadata": {},
   "outputs": [],
   "source": [
    "# max_length = 512"
   ]
  },
  {
   "cell_type": "code",
   "execution_count": 11,
   "id": "00c51a63-31f6-41d9-ae7d-7a76c52cd786",
   "metadata": {},
   "outputs": [],
   "source": [
    "def encode_data(tokenizer, texts, labels, max_length):\n",
    "    input_ids = []\n",
    "    attention_masks = []\n",
    "    for text in texts:\n",
    "        encoded = tokenizer.encode_plus(\n",
    "            text, \n",
    "            add_special_tokens=True, \n",
    "            max_length=max_length, \n",
    "            truncation=True, \n",
    "            padding='max_length', \n",
    "            return_attention_mask=True, \n",
    "            return_tensors='tf'\n",
    "        )\n",
    "        input_ids.append(encoded['input_ids'])\n",
    "        attention_masks.append(encoded['attention_mask'])\n",
    "    \n",
    "    input_ids = tf.concat(input_ids, axis=0)\n",
    "    attention_masks = tf.concat(attention_masks, axis=0)\n",
    "    labels = tf.convert_to_tensor(labels, dtype=tf.int32)\n",
    "\n",
    "    return {\n",
    "        'input_ids': input_ids,\n",
    "        'attention_mask': attention_masks,\n",
    "        'labels': labels\n",
    "    }"
   ]
  },
  {
   "cell_type": "code",
   "execution_count": 12,
   "id": "81b52385-d076-460e-833d-22aff3b0ff2a",
   "metadata": {},
   "outputs": [
    {
     "data": {
      "image/png": "[encoded data removed]",
      "text/plain": [
       "<Figure size 640x480 with 1 Axes>"
      ]
     },
     "metadata": {},
     "output_type": "display_data"
    },
    {
     "name": "stdout",
     "output_type": "stream",
     "text": [
      "90th percentile: 400.0\n",
      "95th percentile: 903.1999999999998\n",
      "99th percentile: 1999.0800000000036\n"
     ]
    }
   ],
   "source": [
    "from transformers import BertTokenizer\n",
    "\n",
    "# Initialize the tokenizer\n",
    "tokenizer = BertTokenizer.from_pretrained('bert-base-uncased')\n",
    "\n",
    "# Tokenize the text and get lengths\n",
    "token_lengths = []\n",
    "for text in df['text']:\n",
    "    tokens = tokenizer.tokenize(text)\n",
    "    token_lengths.append(len(tokens))\n",
    "\n",
    "# Analyze the distribution\n",
    "import matplotlib.pyplot as plt\n",
    "\n",
    "plt.hist(token_lengths, bins=50)\n",
    "plt.xlabel('Token Length')\n",
    "plt.ylabel('Number of Records')\n",
    "plt.title('Distribution of Token Lengths in Dataset')\n",
    "plt.show()\n",
    "\n",
    "# Print percentile values to help decide on max_length\n",
    "for percentile in [90, 95, 99]:\n",
    "    print(f\"{percentile}th percentile: {np.percentile(token_lengths, percentile)}\")\n"
   ]
  },
  {
   "cell_type": "code",
   "execution_count": 13,
   "id": "1df2fcfa-e1d2-43c8-b754-8723a67da73d",
   "metadata": {},
   "outputs": [],
   "source": [
    "# Assuming 'Component' is the column you're predicting\n",
    "label_encoder = LabelEncoder()\n",
    "train_labels = label_encoder.fit_transform(train_data['component'])\n",
    "test_labels = label_encoder.transform(test_data['component'])"
   ]
  },
  {
   "cell_type": "code",
   "execution_count": 14,
   "id": "85bbc51b-d086-4763-9b85-33bb3226a058",
   "metadata": {},
   "outputs": [],
   "source": [
    "max_length = 50  \n",
    "train_encodings = encode_data(tokenizer, train_data['text'].to_numpy(), train_labels, max_length)\n",
    "test_encodings = encode_data(tokenizer, test_data['text'].to_numpy(), test_labels, max_length)\n"
   ]
  },
  {
   "cell_type": "code",
   "execution_count": 15,
   "id": "1d4aa830-49aa-4920-8a4b-cf009877034d",
   "metadata": {},
   "outputs": [],
   "source": [
    "# Convert labels to TensorFlow tensors\n",
    "train_labels = tf.convert_to_tensor(train_labels)\n",
    "test_labels = tf.convert_to_tensor(test_labels)\n"
   ]
  },
  {
   "cell_type": "code",
   "execution_count": 16,
   "id": "4908f75f-aa54-46f2-ad08-57325713eed9",
   "metadata": {},
   "outputs": [
    {
     "name": "stdout",
     "output_type": "stream",
     "text": [
      "WARNING:tensorflow:From C:\\Users\\admin\\AppData\\Local\\Programs\\Python\\Python310\\lib\\site-packages\\keras\\src\\backend.py:873: The name tf.get_default_graph is deprecated. Please use tf.compat.v1.get_default_graph instead.\n",
      "\n"
     ]
    },
    {
     "name": "stderr",
     "output_type": "stream",
     "text": [
      "All PyTorch model weights were used when initializing TFBertForSequenceClassification.\n",
      "\n",
      "Some weights or buffers of the TF 2.0 model TFBertForSequenceClassification were not initialized from the PyTorch model and are newly initialized: ['classifier.weight', 'classifier.bias']\n",
      "You should probably TRAIN this model on a down-stream task to be able to use it for predictions and inference.\n"
     ]
    }
   ],
   "source": [
    "# Load the BERT model\n",
    "model = TFBertForSequenceClassification.from_pretrained('bert-base-uncased', num_labels=len(df['component'].unique()))\n"
   ]
  },
  {
   "cell_type": "code",
   "execution_count": 17,
   "id": "e8e91c2f-3c3a-4331-812d-89b3901bd953",
   "metadata": {},
   "outputs": [],
   "source": [
    "# Prepare the training dataset\n",
    "train_dataset = tf.data.Dataset.from_tensor_slices((\n",
    "    dict(train_encodings),\n",
    "    train_labels\n",
    ")).shuffle(1000).batch(64)"
   ]
  },
  {
   "cell_type": "code",
   "execution_count": 18,
   "id": "ba409d5b-1b3e-4650-ae08-d6c35ec095c7",
   "metadata": {},
   "outputs": [],
   "source": [
    "# Prepare the validation dataset\n",
    "test_dataset = tf.data.Dataset.from_tensor_slices((\n",
    "    dict(test_encodings),\n",
    "    test_labels\n",
    ")).batch(64)"
   ]
  },
  {
   "cell_type": "code",
   "execution_count": 19,
   "id": "16d9c668-898d-4f93-888b-ea7fa0496ef8",
   "metadata": {},
   "outputs": [],
   "source": [
    "# Optimizer and loss\n",
    "optimizer = tf.keras.optimizers.Adam(learning_rate=5e-6)\n",
    "loss = tf.keras.losses.SparseCategoricalCrossentropy(from_logits=True)\n",
    "\n",
    "model.compile(optimizer=optimizer, loss=loss, metrics=['accuracy'])"
   ]
  },
  {
   "cell_type": "code",
   "execution_count": 21,
   "id": "fb6ca898-fa97-40ff-91d9-213c219a3f08",
   "metadata": {},
   "outputs": [
    {
     "name": "stdout",
     "output_type": "stream",
     "text": [
      "Epoch 1/8\n",
      "106/106 [==============================] - 438s 4s/step - loss: 1.7964 - accuracy: 0.5132 - val_loss: 1.6681 - val_accuracy: 0.5449\n",
      "Epoch 2/8\n",
      "106/106 [==============================] - 437s 4s/step - loss: 1.5953 - accuracy: 0.5614 - val_loss: 1.5231 - val_accuracy: 0.5721\n",
      "Epoch 3/8\n",
      "106/106 [==============================] - 436s 4s/step - loss: 1.4361 - accuracy: 0.6058 - val_loss: 1.4345 - val_accuracy: 0.5792\n",
      "Epoch 4/8\n",
      "106/106 [==============================] - 435s 4s/step - loss: 1.3039 - accuracy: 0.6420 - val_loss: 1.3529 - val_accuracy: 0.5963\n",
      "Epoch 5/8\n",
      "106/106 [==============================] - 437s 4s/step - loss: 1.1909 - accuracy: 0.6724 - val_loss: 1.2949 - val_accuracy: 0.6152\n",
      "Epoch 6/8\n",
      "106/106 [==============================] - 437s 4s/step - loss: 1.0828 - accuracy: 0.7045 - val_loss: 1.2485 - val_accuracy: 0.6294\n",
      "Epoch 7/8\n",
      "106/106 [==============================] - 434s 4s/step - loss: 0.9889 - accuracy: 0.7307 - val_loss: 1.2167 - val_accuracy: 0.6294\n",
      "Epoch 8/8\n",
      "106/106 [==============================] - 437s 4s/step - loss: 0.9139 - accuracy: 0.7497 - val_loss: 1.1970 - val_accuracy: 0.6348\n"
     ]
    }
   ],
   "source": [
    "# Train the model\n",
    "history = model.fit(train_dataset, validation_data=test_dataset, epochs=8)"
   ]
  },
  {
   "cell_type": "code",
   "execution_count": 22,
   "id": "f96e68e7-6906-4054-8f83-bef90f691097",
   "metadata": {},
   "outputs": [
    {
     "name": "stdout",
     "output_type": "stream",
     "text": [
      "27/27 [==============================] - 26s 978ms/step - loss: 1.1970 - accuracy: 0.6348\n",
      "\n",
      "Test Loss: 1.1969578266143799, Test Accuracy: 0.6347517967224121\n"
     ]
    }
   ],
   "source": [
    "# Evaluate the model\n",
    "eval_results = model.evaluate(test_dataset)\n",
    "print(f'\\nTest Loss: {eval_results[0]}, Test Accuracy: {eval_results[1]}')\n"
   ]
  },
  {
   "cell_type": "code",
   "execution_count": 24,
   "id": "105e325b-795f-45ba-8778-b5d542a64de1",
   "metadata": {},
   "outputs": [
    {
     "name": "stdout",
     "output_type": "stream",
     "text": [
      "27/27 [==============================] - 26s 964ms/step\n",
      "Accuracy: 0.6347517730496454\n",
      "Classification Report:\n",
      "                                              precision    recall  f1-score   support\n",
      "\n",
      "                                    ant            0.83      0.87      0.85       199\n",
      "                                compare            0.71      0.68      0.70        66\n",
      "                                    cvs            0.47      0.35      0.40       113\n",
      "                                  debug            0.72      0.78      0.75       216\n",
      "                                    doc            0.38      0.17      0.23        36\n",
      "                                    ide            0.36      0.09      0.15        54\n",
      "                                 releng            0.75      0.79      0.77       159\n",
      "                              resources            0.44      0.32      0.37        47\n",
      "                                runtime            0.00      0.00      0.00        23\n",
      "                                 search            0.76      0.59      0.67        32\n",
      "                                    swt            0.79      0.79      0.79       200\n",
      "                                   team            0.52      0.61      0.56       179\n",
      "                                   text            0.47      0.68      0.55       111\n",
      "                                     ui            0.49      0.55      0.52       206\n",
      "update  deprecated  use eclipseequinoxp            0.00      0.00      0.00        14\n",
      "                        user assistance            0.53      0.57      0.55        37\n",
      "\n",
      "                                    accuracy                           0.63      1692\n",
      "                                   macro avg       0.51      0.49      0.49      1692\n",
      "                                weighted avg       0.62      0.63      0.62      1692\n",
      "\n"
     ]
    },
    {
     "name": "stderr",
     "output_type": "stream",
     "text": [
      "C:\\Users\\admin\\AppData\\Local\\Programs\\Python\\Python310\\lib\\site-packages\\sklearn\\metrics\\_classification.py:1471: UndefinedMetricWarning: Precision and F-score are ill-defined and being set to 0.0 in labels with no predicted samples. Use `zero_division` parameter to control this behavior.\n",
      "  _warn_prf(average, modifier, msg_start, len(result))\n",
      "C:\\Users\\admin\\AppData\\Local\\Programs\\Python\\Python310\\lib\\site-packages\\sklearn\\metrics\\_classification.py:1471: UndefinedMetricWarning: Precision and F-score are ill-defined and being set to 0.0 in labels with no predicted samples. Use `zero_division` parameter to control this behavior.\n",
      "  _warn_prf(average, modifier, msg_start, len(result))\n",
      "C:\\Users\\admin\\AppData\\Local\\Programs\\Python\\Python310\\lib\\site-packages\\sklearn\\metrics\\_classification.py:1471: UndefinedMetricWarning: Precision and F-score are ill-defined and being set to 0.0 in labels with no predicted samples. Use `zero_division` parameter to control this behavior.\n",
      "  _warn_prf(average, modifier, msg_start, len(result))\n"
     ]
    }
   ],
   "source": [
    "from sklearn.metrics import accuracy_score, classification_report\n",
    "\n",
    "# Prediction on test data\n",
    "predictions = model.predict(test_dataset).logits\n",
    "test_preds = np.argmax(predictions, axis=1)\n",
    "\n",
    "# Convert predictions to original labels\n",
    "test_preds_original = label_encoder.inverse_transform(test_preds)\n",
    "\n",
    "# Accuracy and classification report\n",
    "accuracy = accuracy_score(test_data['component'], test_preds_original)\n",
    "classification_report_result = classification_report(test_data['component'], test_preds_original)\n",
    "\n",
    "print(f'Accuracy: {accuracy}')\n",
    "print('Classification Report:')\n",
    "print(classification_report_result)"
   ]
  },
  {
   "cell_type": "code",
   "execution_count": 32,
   "id": "81d4aabc-dde1-449f-bbec-7a7a8df80278",
   "metadata": {},
   "outputs": [],
   "source": [
    "def predict_components(input_description):\n",
    "    # Preprocess the input description\n",
    "    processed_description = preprocess_text(input_description)\n",
    "    \n",
    "    # Tokenize the text\n",
    "    encoded_input = tokenizer.encode_plus(\n",
    "        processed_description, \n",
    "        add_special_tokens=True,\n",
    "        max_length=50,  # Ensure this matches the max_length used during training\n",
    "        truncation=True,\n",
    "        padding='max_length',\n",
    "        return_attention_mask=True,\n",
    "        return_tensors='tf'\n",
    "    )\n",
    "\n",
    "    # Make prediction\n",
    "    prediction = model.predict({\n",
    "        'input_ids': encoded_input['input_ids'],\n",
    "        'attention_mask': encoded_input['attention_mask']\n",
    "    })\n",
    "\n",
    "    # Get the top 5 predictions \n",
    "    top_5_indices = np.argsort(prediction.logits, axis=1)[0, -5:][::-1]\n",
    "\n",
    "    # Convert predictions to component names using the label encoder\n",
    "    top_5_components = label_encoder.inverse_transform(top_5_indices)\n",
    "    \n",
    "    # Get the corresponding scores (softmax to get probabilities)\n",
    "    softmax_scores = tf.nn.softmax(prediction.logits, axis=1)\n",
    "    top_5_scores = [softmax_scores.numpy()[0, idx] for idx in top_5_indices]\n",
    "\n",
    "    return list(zip(top_5_components, top_5_scores))\n",
    "\n",
    "\n"
   ]
  },
  {
   "cell_type": "code",
   "execution_count": 39,
   "id": "835d913b-a8dd-4f98-8e28-ec669b6136bb",
   "metadata": {},
   "outputs": [
    {
     "data": {
      "application/vnd.jupyter.widget-view+json": {
       "model_id": "0038032f2f8f4d8492377215e4256587",
       "version_major": 2,
       "version_minor": 0
      },
      "text/plain": [
       "Textarea(value='', description='Description:', layout=Layout(height='100px', width='500px'), placeholder='Type…"
      ]
     },
     "metadata": {},
     "output_type": "display_data"
    },
    {
     "data": {
      "application/vnd.jupyter.widget-view+json": {
       "model_id": "f68ef59c029a4ff0b9439cbe6e88b30f",
       "version_major": 2,
       "version_minor": 0
      },
      "text/plain": [
       "Button(button_style='info', description='Predict Components', icon='check', style=ButtonStyle(), tooltip='Clic…"
      ]
     },
     "metadata": {},
     "output_type": "display_data"
    },
    {
     "data": {
      "application/vnd.jupyter.widget-view+json": {
       "model_id": "9f523e83577141be9f237eae0ee91b10",
       "version_major": 2,
       "version_minor": 0
      },
      "text/plain": [
       "Output()"
      ]
     },
     "metadata": {},
     "output_type": "display_data"
    }
   ],
   "source": [
    "import ipywidgets as widgets\n",
    "from IPython.display import display\n",
    "\n",
    "# text input field\n",
    "text_input = widgets.Textarea(\n",
    "    value='',\n",
    "    placeholder='Type Description here',\n",
    "    description='Description:',\n",
    "    disabled=False,\n",
    "    layout={'width': '500px', 'height': '100px'}\n",
    ")\n",
    "\n",
    "#  button\n",
    "button = widgets.Button(\n",
    "    description='Predict Components',\n",
    "    disabled=False,\n",
    "    button_style='info', # 'success', 'info', 'warning', 'danger' or ''\n",
    "    tooltip='Click to predict top 5 components',\n",
    "    icon='check' # (FontAwesome names without the `fa-` prefix)\n",
    ")\n",
    "\n",
    "# output area\n",
    "output = widgets.Output()\n",
    "\n",
    "#  button click event handler\n",
    "def on_button_clicked(b):\n",
    "    with output:\n",
    "        output.clear_output()\n",
    "        if text_input.value.strip() == '':\n",
    "            print(\"Please enter a description.\")\n",
    "        else:\n",
    "            recommendations = predict_components(text_input.value)\n",
    "            print(\"Top 5 Component Recommendations and their scores:\")\n",
    "            for component, score in recommendations:\n",
    "                print(f\"{component}: {score:.4f}\")\n",
    "\n",
    "\n",
    "button.on_click(on_button_clicked)\n",
    "\n",
    "\n",
    "display(text_input, button, output)\n"
   ]
  },
  {
   "cell_type": "code",
   "execution_count": null,
   "id": "5ff7705a-3019-4927-aae6-849ed8124b9b",
   "metadata": {},
   "outputs": [],
   "source": []
  }
 ],
 "metadata": {
  "kernelspec": {
   "display_name": "Python 3 (ipykernel)",
   "language": "python",
   "name": "python3"
  },
  "language_info": {
   "codemirror_mode": {
    "name": "ipython",
    "version": 3
   },
   "file_extension": ".py",
   "mimetype": "text/x-python",
   "name": "python",
   "nbconvert_exporter": "python",
   "pygments_lexer": "ipython3",
   "version": "3.10.11"
  }
 },
 "nbformat": 4,
 "nbformat_minor": 5
}
